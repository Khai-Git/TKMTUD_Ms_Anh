{
 "cells": [
  {
   "cell_type": "markdown",
   "metadata": {},
   "source": [
    "# Bài tập"
   ]
  },
  {
   "cell_type": "markdown",
   "metadata": {},
   "source": [
    "**Bài 01:** Một bài thi trắc nghiệm gồm 10 câu hỏi, mỗi câu có 4 phương án trả lời trong đó chỉ có một phương án đúng. Bạn hãy: \n",
    "\n",
    "a. Một sinh viên không học bài làm bài bằng cách chọn ngẫu nhiên một phương án cho mỗi câu hỏi. Bạn hãy dùng hàm random để in ra số câu đúng của bạn sinh viên trong 10 lần kiểm tra.\n",
    "\n",
    "b. Giả sử mỗi câu đúng được 4 điểm, mỗi câu sai bị trừ 2 điểm. Tính xác suất để sinh viên này được 4 điểm\n",
    "\n",
    "c. Gọi X là số câu trả lời đúng. Tính E(X) và Var(X)"
   ]
  },
  {
   "cell_type": "code",
   "execution_count": 2,
   "metadata": {},
   "outputs": [],
   "source": [
    "import numpy as np\n",
    "import pandas as pd\n",
    "import matplotlib.pyplot as plt"
   ]
  },
  {
   "cell_type": "code",
   "execution_count": 37,
   "metadata": {},
   "outputs": [],
   "source": [
    "from scipy.stats import binom\n",
    "from scipy.stats import poisson\n",
    "from scipy.stats import norm\n",
    "from scipy.stats import t"
   ]
  },
  {
   "cell_type": "code",
   "execution_count": 3,
   "metadata": {},
   "outputs": [],
   "source": [
    "n = 10\n",
    "p = 0.25"
   ]
  },
  {
   "cell_type": "code",
   "execution_count": 26,
   "metadata": {},
   "outputs": [
    {
     "data": {
      "text/plain": [
       "array([3, 2, 1, 1, 1, 1, 2, 2, 2, 3])"
      ]
     },
     "execution_count": 26,
     "metadata": {},
     "output_type": "execute_result"
    }
   ],
   "source": [
    "# a. Một sinh viên không học bài làm bài bằng cách chọn ngẫu nhiên một phương án cho mỗi câu hỏi.\n",
    "# Bạn hãy dùng hàm random để in ra số câu đúng của bạn sinh viên trong 10 lần kiểm tra.\n",
    "bi_sam_10 = binom.rvs(n, p, size=10)\n",
    "bi_sam_10"
   ]
  },
  {
   "cell_type": "code",
   "execution_count": 29,
   "metadata": {},
   "outputs": [
    {
     "data": {
      "text/plain": [
       "0.14599800109863295"
      ]
     },
     "execution_count": 29,
     "metadata": {},
     "output_type": "execute_result"
    }
   ],
   "source": [
    "# b. Giả sử mỗi câu đúng được 4 điểm, mỗi câu sai bị trừ 2 điểm.\n",
    "# Tính xác suất để sinh viên này được 4 điểm\n",
    "P_4d = binom.pmf(4,n,p)\n",
    "P_4d"
   ]
  },
  {
   "cell_type": "code",
   "execution_count": 30,
   "metadata": {},
   "outputs": [
    {
     "name": "stdout",
     "output_type": "stream",
     "text": [
      "E(x)= 2.5  Var(x)= 1.875\n"
     ]
    }
   ],
   "source": [
    "# c. Gọi X là số câu trả lời đúng. Tính E(X) và Var(X)\n",
    "n=10\n",
    "p=0.25\n",
    "E_x=n*p\n",
    "Var_x=n*p*(1-p)\n",
    "print(\"E(x)=\",E_x,\" Var(x)=\",Var_x)"
   ]
  },
  {
   "cell_type": "markdown",
   "metadata": {},
   "source": [
    "**Bài 02:** Một trung tâm bưu điện nhận được 3 cuộc gọi điện thoại mỗi phút. Tính xác suất để trung tâm nhận được 1 cuộc gọi, 2 cuộc gọi, 3 cuộc gọi trong vòng một phút biết số cuộc gọi trong một phút có phân phối Poisson."
   ]
  },
  {
   "cell_type": "code",
   "execution_count": 35,
   "metadata": {},
   "outputs": [
    {
     "name": "stdout",
     "output_type": "stream",
     "text": [
      "xs 1 cuộc gọi: 0.14936120510359185 \n",
      "xs 2 cuộc gọi: 0.22404180765538775 \n",
      "xs 3 cuộc gọi: 0.22404180765538775\n"
     ]
    }
   ],
   "source": [
    "Lamda = 3\n",
    "P_x_1=poisson.pmf(1,Lamda)\n",
    "P_x_2=poisson.pmf(2,Lamda)\n",
    "P_x_3=poisson.pmf(3,Lamda)\n",
    "print(\"xs 1 cuộc gọi:\",P_x_1,\"\\nxs 2 cuộc gọi:\",P_x_2,\"\\nxs 3 cuộc gọi:\",P_x_3)"
   ]
  },
  {
   "cell_type": "markdown",
   "metadata": {},
   "source": [
    "**Bài 03:** Trọng lượng (đơn vị gam) của một loại trái cây có phân phối chuẩn với µ = 500 (gam) gam và $σ^2 = 16 (gam^2)$. Trái cây thu hoạch được phân loại theo trọng lượng như sau:\n",
    "\n",
    "Loại 1: trên 505 gam\n",
    "\n",
    "Loại 2: từ 495 – 505 gam\n",
    "\n",
    "Loại 3: dười 495 gam\n",
    "\n",
    "a. Hãy tính tỷ lệ của mỗi loại.\n",
    "\n",
    "b. Bạn hãy mô phỏng lấy mẫu  20 trái cây trên. Bạn hãy vẽ histogram trọng lượng trái cây và tính giá trị trung bình và độ lệch chuẩn trái cây từ mẫu\n",
    "\n",
    "c. Bạn hãy mô phỏng lấy 100 trái cây trên. Bạn hãy vẽ histogram trọng lượng trái cây và tính giá trị trung bình và độ lệch chuẩn trái cây từ mẫu\n",
    "\n",
    "d. Từ hai cách lấy mẫu ở câu b, c bạn có nhận xét gì không?"
   ]
  },
  {
   "cell_type": "code",
   "execution_count": 57,
   "metadata": {},
   "outputs": [
    {
     "name": "stdout",
     "output_type": "stream",
     "text": [
      "Loại 1: 0.10564977366685535\n",
      "Loại 2: 0.8943502263331446\n",
      "Loại 3: 0.10564977366685535\n"
     ]
    }
   ],
   "source": [
    "# a. Hãy tính tỷ lệ của mỗi loại.\n",
    "# Loại 1: trên 505 gam\n",
    "g505 = 1-norm.cdf(505,loc=500, scale=4)\n",
    "print(\"Loại 1: \" + str(g505))\n",
    "# Loại 2: từ 495 – 505 gam\n",
    "g505_409 = norm.cdf(505,loc=500, scale=4) - norm.cdf(409,loc=500, scale=4)\n",
    "print(\"Loại 2: \" + str(g505_409))\n",
    "# Loại 3: dưới 495 gam\n",
    "g495 = norm.cdf(495,loc=500, scale=4)\n",
    "print(\"Loại 3: \" + str(g495))"
   ]
  },
  {
   "cell_type": "code",
   "execution_count": 95,
   "metadata": {},
   "outputs": [
    {
     "data": {
      "text/plain": [
       "array([ 0.83814751,  0.13790581,  0.29123121,  1.33277302,  0.70271866,\n",
       "       -1.65625696, -0.50648452, -1.40013114, -1.25122414,  0.59843307,\n",
       "       -0.19274012,  0.3998909 ,  0.25586665, -0.03572018, -0.21709141,\n",
       "       -0.37055507, -0.05127115, -0.60006355,  1.42859118, -0.95869741])"
      ]
     },
     "execution_count": 95,
     "metadata": {},
     "output_type": "execute_result"
    }
   ],
   "source": [
    "# b. Bạn hãy mô phỏng lấy mẫu 20 trái cây trên.\n",
    "# Bạn hãy vẽ histogram trọng lượng trái cây và\n",
    "# tính giá trị trung bình và độ lệch chuẩn trái cây từ mẫu\n",
    "p = norm.rvs(size=20)\n",
    "p"
   ]
  }
 ],
 "metadata": {
  "kernelspec": {
   "display_name": "Python 3",
   "language": "python",
   "name": "python3"
  },
  "language_info": {
   "codemirror_mode": {
    "name": "ipython",
    "version": 3
   },
   "file_extension": ".py",
   "mimetype": "text/x-python",
   "name": "python",
   "nbconvert_exporter": "python",
   "pygments_lexer": "ipython3",
   "version": "3.8.5"
  },
  "vscode": {
   "interpreter": {
    "hash": "3c3b350b7397a965849e15e620eb854406cd369111cf0e87ae1f121c7288063b"
   }
  }
 },
 "nbformat": 4,
 "nbformat_minor": 4
}
